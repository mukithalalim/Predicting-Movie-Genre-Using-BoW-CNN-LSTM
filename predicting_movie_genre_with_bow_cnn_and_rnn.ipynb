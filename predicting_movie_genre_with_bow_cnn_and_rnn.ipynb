{
  "nbformat": 4,
  "nbformat_minor": 0,
  "metadata": {
    "kernelspec": {
      "display_name": "Python 3",
      "language": "python",
      "name": "python3"
    },
    "language_info": {
      "name": "python",
      "version": "3.6.6",
      "mimetype": "text/x-python",
      "codemirror_mode": {
        "name": "ipython",
        "version": 3
      },
      "pygments_lexer": "ipython3",
      "nbconvert_exporter": "python",
      "file_extension": ".py"
    },
    "colab": {
      "name": "predicting movie genre with bow cnn and rnn.ipynb",
      "provenance": [],
      "collapsed_sections": []
    },
    "accelerator": "GPU"
  },
  "cells": [
    {
      "cell_type": "code",
      "metadata": {
        "trusted": true,
        "_uuid": "bf2b264fc603b226ef7b19170cc611961dc9fe34",
        "id": "wMay7GfwM_hj"
      },
      "source": [
        "import numpy as np # linear algebra\n",
        "import pandas as pd # data processing, CSV file I/O (e.g. pd.read_csv)\n",
        "import os\n",
        "import matplotlib\n",
        "import json\n",
        "import nltk\n",
        "from sklearn.model_selection import train_test_split\n",
        "from tensorflow.keras.utils import to_categorical\n",
        "from keras.layers import Conv1D,MaxPooling1D,Dense,Flatten, Dropout\n",
        "from keras.layers import Conv1D,MaxPooling1D,Dense,Flatten, Dropout, Bidirectional\n",
        "from keras.layers import LSTM, Dropout,Activation, Bidirectional\n",
        "\n",
        "from keras.preprocessing.text import Tokenizer\n",
        "from keras.preprocessing.sequence import pad_sequences\n",
        "from nltk.stem.porter import *\n",
        "import random\n",
        "import copy"
      ],
      "execution_count": null,
      "outputs": []
    },
    {
      "cell_type": "code",
      "metadata": {
        "trusted": true,
        "_uuid": "e3bf9051cf7aca82f45fa4a13d3939e56e3164c3",
        "id": "w5Op8y3rM_hl"
      },
      "source": [
        "def removeStopWords(lowerArg):\n",
        "    i=0\n",
        "    removed=[]\n",
        "    for x in lowerArg:\n",
        "        i+=1\n",
        "        removed.append((' '.join([word for word in x.split() if word not in nltk.corpus.stopwords.words('english')])))\n",
        "        \n",
        "    return pd.Series(removed).astype(str)"
      ],
      "execution_count": null,
      "outputs": []
    },
    {
      "cell_type": "code",
      "metadata": {
        "_cell_guid": "79c7e3d0-c299-4dcb-8224-4455121ee9b0",
        "_uuid": "d629ff2d2480ee46fbb7e2d37f6b5fab8052498a",
        "trusted": true,
        "id": "0MMqoY78M_hm",
        "colab": {
          "base_uri": "https://localhost:8080/",
          "height": 385
        },
        "outputId": "f00b379b-09d3-458b-b507-1690b7ccaf19"
      },
      "source": [
        "df=pd.read_csv('/content/drive/MyDrive/Movie_Genre/wiki_movie_plots_deduped.csv')\n",
        "df.head()"
      ],
      "execution_count": null,
      "outputs": [
        {
          "output_type": "execute_result",
          "data": {
            "text/html": [
              "<div>\n",
              "<style scoped>\n",
              "    .dataframe tbody tr th:only-of-type {\n",
              "        vertical-align: middle;\n",
              "    }\n",
              "\n",
              "    .dataframe tbody tr th {\n",
              "        vertical-align: top;\n",
              "    }\n",
              "\n",
              "    .dataframe thead th {\n",
              "        text-align: right;\n",
              "    }\n",
              "</style>\n",
              "<table border=\"1\" class=\"dataframe\">\n",
              "  <thead>\n",
              "    <tr style=\"text-align: right;\">\n",
              "      <th></th>\n",
              "      <th>Release Year</th>\n",
              "      <th>Title</th>\n",
              "      <th>Origin/Ethnicity</th>\n",
              "      <th>Director</th>\n",
              "      <th>Cast</th>\n",
              "      <th>Genre</th>\n",
              "      <th>Wiki Page</th>\n",
              "      <th>Plot</th>\n",
              "    </tr>\n",
              "  </thead>\n",
              "  <tbody>\n",
              "    <tr>\n",
              "      <th>0</th>\n",
              "      <td>1901</td>\n",
              "      <td>Kansas Saloon Smashers</td>\n",
              "      <td>American</td>\n",
              "      <td>Unknown</td>\n",
              "      <td>NaN</td>\n",
              "      <td>unknown</td>\n",
              "      <td>https://en.wikipedia.org/wiki/Kansas_Saloon_Sm...</td>\n",
              "      <td>A bartender is working at a saloon, serving dr...</td>\n",
              "    </tr>\n",
              "    <tr>\n",
              "      <th>1</th>\n",
              "      <td>1901</td>\n",
              "      <td>Love by the Light of the Moon</td>\n",
              "      <td>American</td>\n",
              "      <td>Unknown</td>\n",
              "      <td>NaN</td>\n",
              "      <td>unknown</td>\n",
              "      <td>https://en.wikipedia.org/wiki/Love_by_the_Ligh...</td>\n",
              "      <td>The moon, painted with a smiling face hangs ov...</td>\n",
              "    </tr>\n",
              "    <tr>\n",
              "      <th>2</th>\n",
              "      <td>1901</td>\n",
              "      <td>The Martyred Presidents</td>\n",
              "      <td>American</td>\n",
              "      <td>Unknown</td>\n",
              "      <td>NaN</td>\n",
              "      <td>unknown</td>\n",
              "      <td>https://en.wikipedia.org/wiki/The_Martyred_Pre...</td>\n",
              "      <td>The film, just over a minute long, is composed...</td>\n",
              "    </tr>\n",
              "    <tr>\n",
              "      <th>3</th>\n",
              "      <td>1901</td>\n",
              "      <td>Terrible Teddy, the Grizzly King</td>\n",
              "      <td>American</td>\n",
              "      <td>Unknown</td>\n",
              "      <td>NaN</td>\n",
              "      <td>unknown</td>\n",
              "      <td>https://en.wikipedia.org/wiki/Terrible_Teddy,_...</td>\n",
              "      <td>Lasting just 61 seconds and consisting of two ...</td>\n",
              "    </tr>\n",
              "    <tr>\n",
              "      <th>4</th>\n",
              "      <td>1902</td>\n",
              "      <td>Jack and the Beanstalk</td>\n",
              "      <td>American</td>\n",
              "      <td>George S. Fleming, Edwin S. Porter</td>\n",
              "      <td>NaN</td>\n",
              "      <td>unknown</td>\n",
              "      <td>https://en.wikipedia.org/wiki/Jack_and_the_Bea...</td>\n",
              "      <td>The earliest known adaptation of the classic f...</td>\n",
              "    </tr>\n",
              "  </tbody>\n",
              "</table>\n",
              "</div>"
            ],
            "text/plain": [
              "   Release Year  ...                                               Plot\n",
              "0          1901  ...  A bartender is working at a saloon, serving dr...\n",
              "1          1901  ...  The moon, painted with a smiling face hangs ov...\n",
              "2          1901  ...  The film, just over a minute long, is composed...\n",
              "3          1901  ...  Lasting just 61 seconds and consisting of two ...\n",
              "4          1902  ...  The earliest known adaptation of the classic f...\n",
              "\n",
              "[5 rows x 8 columns]"
            ]
          },
          "metadata": {},
          "execution_count": 7
        }
      ]
    },
    {
      "cell_type": "code",
      "metadata": {
        "colab": {
          "base_uri": "https://localhost:8080/"
        },
        "id": "ZDztBIWe0KbH",
        "outputId": "55bf063a-3ff2-4c9f-9845-36e2758d128c"
      },
      "source": [
        "df['Genre']=df['Genre'].replace('unknown',np.nan)\n",
        "df=df.dropna(axis=0, subset=['Genre'])\n",
        "print(df.tail())"
      ],
      "execution_count": null,
      "outputs": [
        {
          "output_type": "stream",
          "name": "stdout",
          "text": [
            "       Release Year  ...                                               Plot\n",
            "34877          2013  ...  Zeynep lost her job at weaving factory, and he...\n",
            "34882          2017  ...  Two musicians, Salih and Gürkan, described the...\n",
            "34883          2017  ...  Zafer, a sailor living with his mother Döndü i...\n",
            "34884          2017  ...  The film centres around a young woman named Am...\n",
            "34885          2017  ...  The writer Orhan Şahin returns to İstanbul aft...\n",
            "\n",
            "[5 rows x 8 columns]\n"
          ]
        }
      ]
    },
    {
      "cell_type": "code",
      "metadata": {
        "colab": {
          "base_uri": "https://localhost:8080/"
        },
        "id": "MfBvya0Wz97_",
        "outputId": "c49788ac-c6e9-4886-c043-d83e3ad6bbc6"
      },
      "source": [
        "print(len(df))\n",
        "print(df.shape)\n",
        "a=df['Genre'].value_counts()[:20]\n",
        "b=a.keys().tolist()\n",
        "print(b)\n",
        "df=df[df.Genre.isin(b)]\n",
        "df=df.reset_index(drop=True)"
      ],
      "execution_count": null,
      "outputs": [
        {
          "output_type": "stream",
          "name": "stdout",
          "text": [
            "28803\n",
            "(28803, 8)\n",
            "['drama', 'comedy', 'horror', 'action', 'thriller', 'romance', 'western', 'crime', 'adventure', 'musical', 'crime drama', 'romantic comedy', 'science fiction', 'film noir', 'mystery', 'war', 'animation', 'comedy, drama', 'sci-fi', 'family']\n"
          ]
        }
      ]
    },
    {
      "cell_type": "code",
      "metadata": {
        "colab": {
          "base_uri": "https://localhost:8080/",
          "height": 302
        },
        "id": "W69_3XKv0TBu",
        "outputId": "6acbcf79-e579-4754-e0a9-7c52818d7915"
      },
      "source": [
        "import seaborn as sns\n",
        "import matplotlib as plt\n",
        "sns.set(style=\"white\")\n",
        "genre_to_count=pd.DataFrame({'Genre':a.index, 'Count':a.values})\n",
        "\n",
        "sns.barplot(y=\"Genre\", x=\"Count\", data=genre_to_count,palette=\"Blues_d\")"
      ],
      "execution_count": null,
      "outputs": [
        {
          "output_type": "execute_result",
          "data": {
            "text/plain": [
              "<matplotlib.axes._subplots.AxesSubplot at 0x7fd7a5983dd0>"
            ]
          },
          "metadata": {},
          "execution_count": 10
        },
        {
          "output_type": "display_data",
          "data": {
            "image/png": "[encoded data removed]",
            "text/plain": [
              "<Figure size 432x288 with 1 Axes>"
            ]
          },
          "metadata": {}
        }
      ]
    },
    {
      "cell_type": "code",
      "metadata": {
        "trusted": true,
        "_uuid": "e130036c084940023138ac4f05409055f68dc2fc",
        "colab": {
          "base_uri": "https://localhost:8080/"
        },
        "id": "63zZCsnaM_ho",
        "outputId": "fc745745-b613-4ee0-93b7-b86cc142c881"
      },
      "source": [
        "##Limit to just comedies and Genres\n",
        "genres=['drama','comedy','horror','action']\n",
        "df=df[df['Genre'].isin(genres)]\n",
        "df=df.reset_index()\n",
        "df['GenreID']=df['Genre'].apply(lambda x: genres.index(x))\n",
        "\n",
        "wordCount=df['Plot'].apply(lambda x: x.count(' '))\n",
        "print(\"Mean number of words in synopses: \",int(wordCount.mean()))\n",
        "print(\"Standard deviation number of words in synopses: \", int(wordCount.std()))\n",
        "print('Number of Dramas: ',df['Genre'].value_counts()[0])\n",
        "print('Number of Comedies: ',df['Genre'].value_counts()[1])\n",
        "print('Number of horror: ',df['Genre'].value_counts()[2])\n",
        "print('Number of action: ',df['Genre'].value_counts()[3])\n"
      ],
      "execution_count": null,
      "outputs": [
        {
          "output_type": "stream",
          "name": "stdout",
          "text": [
            "Mean number of words in synopses:  359\n",
            "Standard deviation number of words in synopses:  298\n",
            "Number of Dramas:  5964\n",
            "Number of Comedies:  4379\n",
            "Number of horror:  1167\n",
            "Number of action:  1098\n"
          ]
        }
      ]
    },
    {
      "cell_type": "code",
      "metadata": {
        "trusted": true,
        "_uuid": "13b785f9c78bb9dd64719e912118ccb8883e72ed",
        "colab": {
          "base_uri": "https://localhost:8080/",
          "height": 285
        },
        "id": "mruVWrpeM_hp",
        "outputId": "68eb3f26-baaf-4bed-d651-8231858bd13b"
      },
      "source": [
        "matplotlib.pyplot.hist(wordCount)\n",
        "print('Distribution of Synopsis Word Counts')"
      ],
      "execution_count": null,
      "outputs": [
        {
          "output_type": "stream",
          "name": "stdout",
          "text": [
            "Distribution of Synopsis Word Counts\n"
          ]
        },
        {
          "output_type": "display_data",
          "data": {
            "image/png": "[encoded data removed]",
            "text/plain": [
              "<Figure size 432x288 with 1 Axes>"
            ]
          },
          "metadata": {}
        }
      ]
    },
    {
      "cell_type": "code",
      "metadata": {
        "trusted": true,
        "_uuid": "cd946442f4f5e656aa59418455e959aa27bee54a",
        "colab": {
          "base_uri": "https://localhost:8080/"
        },
        "id": "7yOqv9rlM_hr",
        "outputId": "799aaf11-a4b0-467f-f6d2-0ef482806e52"
      },
      "source": [
        "synNumber=random.randint(1,1000)\n",
        "print(df['Title'].loc[synNumber])\n",
        "print(df['Genre'].loc[synNumber])\n",
        "print(df['Plot'].loc[synNumber])"
      ],
      "execution_count": null,
      "outputs": [
        {
          "output_type": "stream",
          "name": "stdout",
          "text": [
            "The Playhouse\n",
            "comedy\n",
            "The film is set up as a series of humorous tricks on the audience, with constant doubling, and in which things are rarely what they at first seem to be. It opens with Keaton attending a variety show. In this first sequence, Keaton plays beside him and remarks, \"This fellow Keaton seems to be the whole show.\" This was a gibe at one of Keaton's contemporaries, Thomas Ince, who credited himself generously in his film productions.[1] In interviews with Kevin Brownlow,[2] Keaton claims he gave the director's credit to Cline mainly because he did not want to appear too Ince-like himself: \"Having kidded things like that, I hesitated to put my own name on as a director and writer.\"\r\n",
            "This elaborate trick-photography sequence turns out to be only a dream when Joe Roberts rouses Keaton from bed. The bedroom then turns out to be not a bedroom, but a set on a stage.\r\n",
            "The second half of the film features Keaton's character falling for a girl who happens to be a twin. He has difficulty telling the twin who likes him from the one who does not. An uncredited Virginia Fox plays one of the twins. Edward F. Cline co-wrote the production and appears, uncredited, as a monkey trainer, whose monkey Keaton impersonates onstage after accidentally letting the animal escape.\n"
          ]
        }
      ]
    },
    {
      "cell_type": "markdown",
      "metadata": {
        "_uuid": "0060cd9a5956b396bff4b7eb98944a9df147354c",
        "id": "L5h1YfJeM_ht"
      },
      "source": [
        "# Text processing and vectorization\n"
      ]
    },
    {
      "cell_type": "code",
      "metadata": {
        "trusted": true,
        "_uuid": "9b732efb720c69ccfba9fab353de46a53eeb4730",
        "id": "SAlh2v19M_hv"
      },
      "source": [
        "from nltk.stem.porter import *\n",
        "stemmer = PorterStemmer()\n",
        "df['StemmedPlot']=df['Plot'].str.split().apply(lambda x: ' '.join([stemmer.stem(y) for y in x]))\n"
      ],
      "execution_count": null,
      "outputs": []
    },
    {
      "cell_type": "markdown",
      "metadata": {
        "_uuid": "a17f7054fee78031f56898f9dbd402d43f07f92f",
        "id": "CzPXxKwFM_hv"
      },
      "source": [
        "Make the both datasets lower-case and remove stop words"
      ]
    },
    {
      "cell_type": "code",
      "metadata": {
        "trusted": true,
        "_uuid": "390cb85980f7afe0694576e8e752fd62b3dcdcfb",
        "id": "6eVlYg7aM_hw"
      },
      "source": [
        "\n",
        "\n",
        "#Store Original Plot for later\n",
        "df['OriginalPlot']=df['Plot']\n",
        "\n",
        "lower=df['Plot'].str.lower()\n"
      ],
      "execution_count": null,
      "outputs": []
    },
    {
      "cell_type": "markdown",
      "metadata": {
        "_uuid": "cbe8a574b6897c547dce05384ee7376aa9566eba",
        "id": "d21em5_IM_hw"
      },
      "source": [
        "Tokenize movie data and pad sequences to maximum length"
      ]
    },
    {
      "cell_type": "code",
      "metadata": {
        "trusted": true,
        "_uuid": "e0c1be56ac22ef7aadfb003f03fb9eae8631fae1",
        "colab": {
          "base_uri": "https://localhost:8080/"
        },
        "id": "C-zTJ6qUM_hw",
        "outputId": "87c08d79-2135-4dc4-8576-64044a8db002"
      },
      "source": [
        "##Using non-stemmed\n",
        "tokenizer = Tokenizer()\n",
        "tokenizer.fit_on_texts(list(df['Plot']))\n",
        "sequences = tokenizer.texts_to_sequences(list(df['Plot']))\n",
        "maxLen=np.max([len(sequence) for sequence in sequences])\n",
        "print(\"Maximum Length: \",maxLen)\n",
        "word_index = tokenizer.word_index\n",
        "print('Found %s unique tokens.' % len(word_index))\n",
        "data = pad_sequences(sequences, maxlen=maxLen)\n",
        "\n",
        "#labels = to_categorical(np.asarray(labels))\n",
        "print('Shape of data tensor:', data.shape)\n",
        "#print('Shape of label tensor:', labels.shape)\n"
      ],
      "execution_count": null,
      "outputs": [
        {
          "output_type": "stream",
          "name": "stdout",
          "text": [
            "Maximum Length:  2978\n",
            "Found 93887 unique tokens.\n",
            "Shape of data tensor: (12608, 2978)\n"
          ]
        }
      ]
    },
    {
      "cell_type": "markdown",
      "metadata": {
        "_uuid": "d11d747b7b8052ac0a7c3f0bf1dd8b154b7de8d2",
        "id": "bp8QkbwiM_hy"
      },
      "source": [
        "Quick sanity check to make sure that the tokenizer worked properly"
      ]
    },
    {
      "cell_type": "code",
      "metadata": {
        "trusted": true,
        "_uuid": "aabec182e3491f96f67aa59501937d0144975823",
        "colab": {
          "base_uri": "https://localhost:8080/"
        },
        "id": "EHykVIANM_hy",
        "outputId": "45c0f9b3-91ea-4dd7-e0de-c5a688df4243"
      },
      "source": [
        "##Sanity Check index is the word_index dictionary with keys reversed\n",
        "sanityCheckIndex={v: k for k, v in tokenizer.word_index.items()}\n",
        "print(sequences[500])\n",
        "print(' '.join([sanityCheckIndex[wordIndex] for wordIndex in sequences[500]]))\n",
        "print(data[500][0])\n",
        "print(data[500][-1])\n",
        "print(' '.join([sanityCheckIndex[wordIndex] for wordIndex in data[500] if wordIndex!=0 ]))"
      ],
      "execution_count": null,
      "outputs": [
        {
          "output_type": "stream",
          "name": "stdout",
          "text": [
            "[3407, 1262, 4, 7624, 5, 1, 1077, 7107, 402, 1262, 6, 281, 4, 5675, 3, 15264, 66, 19, 26, 489, 7, 1, 7984, 21, 172, 222, 707, 36, 281, 1, 189, 66, 7, 6819, 28, 14, 211, 12, 10, 49, 7, 838, 15, 87, 24, 2419, 10, 286, 7, 204, 2, 39, 5, 8, 39771, 123, 14, 6, 109, 1092, 12, 6819, 6, 1, 209, 2, 36, 28, 26, 327, 125, 2, 1, 489, 2, 699, 126, 10770, 14, 178, 7, 67, 11, 13, 3, 28, 14, 168, 9, 6, 2, 36, 4186, 32, 5, 8, 87, 3, 118, 14, 167, 288, 2, 355, 13, 3, 82, 2, 6819, 11, 13]\n",
            "anita morgan a descendant of the famous pirate henry morgan is living a carefree and careless life on an island in the caribbean but would much rather be living the same life in havana when she learns that her father in exchange for money has promised her hand in marriage to one of his swarthy friends she is more convinced that havana is the place to be when an american comes to the island to buy some pearls she falls in love with him and when she discovers he is to be tricked out of his money and killed she makes plans to save him and go to havana with him\n",
            "0\n",
            "13\n",
            "anita morgan a descendant of the famous pirate henry morgan is living a carefree and careless life on an island in the caribbean but would much rather be living the same life in havana when she learns that her father in exchange for money has promised her hand in marriage to one of his swarthy friends she is more convinced that havana is the place to be when an american comes to the island to buy some pearls she falls in love with him and when she discovers he is to be tricked out of his money and killed she makes plans to save him and go to havana with him\n"
          ]
        }
      ]
    },
    {
      "cell_type": "markdown",
      "metadata": {
        "_uuid": "7744287171000a0fc766343229e91d36bf99c206",
        "id": "UKmPN4UZM_hz"
      },
      "source": [
        "Split the data into train and test sets.  Additionally, create separate training sets for training data enhanced with news data and training data consisting only of movie data"
      ]
    },
    {
      "cell_type": "code",
      "metadata": {
        "trusted": true,
        "_uuid": "676f00e61be7f878a183bdbe12258caf3dbc44e6",
        "colab": {
          "base_uri": "https://localhost:8080/"
        },
        "id": "Hrg-nyJaM_hz",
        "outputId": "54fe4057-5fd3-4581-ba00-44a160c904ce"
      },
      "source": [
        "seed=random.randint(1,1000)\n",
        "X_train, X_test, y_train, y_test = train_test_split(data, df['GenreID'], test_size=0.2, random_state=seed)\n",
        "testIndices=y_test.index\n",
        "y_train=to_categorical(y_train)\n",
        "y_test=to_categorical(y_test)\n",
        "\n",
        "y_train_small=y_train.copy()\n",
        "X_train_small=X_train.copy()\n",
        "\n",
        "print(\"X Train  shape: \",X_train_small.shape)\n",
        "print(\"Y train  shape: \",y_train_small.shape)\n",
        "print(\"X test shape: \",X_test.shape)\n",
        "print(\"Y test shape: \",y_test.shape)\n"
      ],
      "execution_count": null,
      "outputs": [
        {
          "output_type": "stream",
          "name": "stdout",
          "text": [
            "X Train  shape:  (10086, 2978)\n",
            "Y train  shape:  (10086, 4)\n",
            "X test shape:  (2522, 2978)\n",
            "Y test shape:  (2522, 4)\n"
          ]
        }
      ]
    },
    {
      "cell_type": "code",
      "metadata": {
        "colab": {
          "base_uri": "https://localhost:8080/"
        },
        "id": "6O-sx8u1-5aj",
        "outputId": "7854f089-4480-481b-a2d6-18b500d83daa"
      },
      "source": [
        "a"
      ],
      "execution_count": null,
      "outputs": [
        {
          "output_type": "execute_result",
          "data": {
            "text/plain": [
              "drama              5964\n",
              "comedy             4379\n",
              "horror             1167\n",
              "action             1098\n",
              "thriller            966\n",
              "romance             923\n",
              "western             865\n",
              "crime               568\n",
              "adventure           526\n",
              "musical             467\n",
              "crime drama         464\n",
              "romantic comedy     461\n",
              "science fiction     418\n",
              "film noir           345\n",
              "mystery             310\n",
              "war                 273\n",
              "animation           264\n",
              "comedy, drama       236\n",
              "sci-fi              221\n",
              "family              217\n",
              "Name: Genre, dtype: int64"
            ]
          },
          "metadata": {},
          "execution_count": 37
        }
      ]
    },
    {
      "cell_type": "markdown",
      "metadata": {
        "_uuid": "946c1379ac4ca1cc6e441ecb70a1ce4f3cf0587a",
        "id": "0z_aNbhxM_h1"
      },
      "source": [
        "# 5. GloVE embeddings\n",
        "Load the GloVE 6B 100d word embeddings in hopes that they will enhance the accuracy and training speed of the neural network models."
      ]
    },
    {
      "cell_type": "code",
      "metadata": {
        "trusted": true,
        "_uuid": "95efbfbf8f6f0df726fa8493544ab26e1edbbc80",
        "id": "ZBkGI2gOM_h1"
      },
      "source": [
        "embeddings={}\n",
        "index=0\n",
        "with open('/content/drive/MyDrive/Movie_Genre/glove.6B.100d.txt') as file:\n",
        "    for embeddingLine in file:\n",
        "        lineSplit=embeddingLine.split()\n",
        "        coefs = np.asarray(lineSplit[1:], dtype='float32')\n",
        "        embeddings[lineSplit[0]]=coefs\n",
        "        index+=1\n",
        "\n"
      ],
      "execution_count": null,
      "outputs": []
    },
    {
      "cell_type": "markdown",
      "metadata": {
        "_uuid": "4a4d100f873ac0e1398e26060597e8d4c0d32758",
        "id": "fqQsoh4zM_h2"
      },
      "source": [
        "Map the GloVE embeddings to the data"
      ]
    },
    {
      "cell_type": "code",
      "metadata": {
        "trusted": true,
        "_uuid": "bced1acaea9dbe0ffb4708c0ca288fede3e59219",
        "id": "N8kNQhXTM_h2"
      },
      "source": [
        "embeddings_matrix=np.zeros((len(word_index)+1,len(embeddings['a'])))\n",
        "for word,i in word_index.items():\n",
        "    if word in embeddings:\n",
        "        embeddings_matrix[i]=embeddings[word]\n",
        "\n"
      ],
      "execution_count": null,
      "outputs": []
    },
    {
      "cell_type": "markdown",
      "metadata": {
        "_uuid": "19b7751768289cbd87bc07ef1bd93325b710884c",
        "id": "6JAQEvNaM_h2"
      },
      "source": [
        "Quick check to make sure that the embeddings matrix is right"
      ]
    },
    {
      "cell_type": "code",
      "metadata": {
        "trusted": true,
        "_uuid": "89dd354df92463c72e8e175fcd534e769f1d2cc1",
        "colab": {
          "base_uri": "https://localhost:8080/"
        },
        "id": "ptjtd-hlM_h3",
        "outputId": "c4120c76-8331-48fd-ae3c-00dd03fc8c32"
      },
      "source": [
        "print('Word #2: ',sanityCheckIndex[2])\n",
        "print('Index of him : ',word_index['him'])\n",
        "print('Embbedding in embeddings list: ',embeddings['him'][:5])\n",
        "print('Embedding in embeddings matrix: ',embeddings_matrix[2][:5])\n"
      ],
      "execution_count": null,
      "outputs": [
        {
          "output_type": "stream",
          "name": "stdout",
          "text": [
            "Word #2:  to\n",
            "Index of him :  13\n",
            "Embbedding in embeddings list:  [ 0.042409 -0.52195   0.40389  -0.31683   0.015581]\n",
            "Embedding in embeddings matrix:  [-0.18970001  0.050024    0.19084001 -0.049184   -0.089737  ]\n"
          ]
        }
      ]
    },
    {
      "cell_type": "code",
      "metadata": {
        "trusted": true,
        "_uuid": "690b752c45cba88e5309e0e8761129d4595dad2e",
        "id": "DI-YA2TuM_h3"
      },
      "source": [
        "from keras.layers import Embedding\n",
        "\n",
        "embedding_layer = Embedding(len(word_index) + 1,\n",
        "                            len(embeddings['a']),\n",
        "                            weights=[embeddings_matrix],\n",
        "                            input_length=maxLen,\n",
        "                            trainable=False)\n",
        "embedding_layerNoGlove = Embedding(len(word_index) + 1,\n",
        "                            len(embeddings['a']),\n",
        "                            weights=[embeddings_matrix],\n",
        "                                   input_length=maxLen\n",
        "                            )\n"
      ],
      "execution_count": null,
      "outputs": []
    },
    {
      "cell_type": "code",
      "metadata": {
        "trusted": true,
        "_uuid": "7769ae09bf961385a08c7b76ef46f418a2807c8f",
        "colab": {
          "base_uri": "https://localhost:8080/"
        },
        "id": "bixcI5PjM_h4",
        "outputId": "6769ce5f-c897-4683-8abe-287437cdfdd2"
      },
      "source": [
        "from keras import *\n",
        "from keras.layers import Dense\n",
        "from tensorflow.keras.utils import to_categorical\n",
        "sequence_input = Input(shape=(maxLen,), dtype='int32')\n",
        "embedded_sequences = embedding_layer(sequence_input)\n",
        "embeddingOnlyModel = Model(sequence_input, embedded_sequences)\n",
        "\n",
        "print('Manual Embeddings Result: ',[list(embeddings[sanityCheckIndex[x]][:3]) if sanityCheckIndex[x] in embeddings else [0,0,0] for x in sequences[500] ][-5:])\n",
        "##print(sequences[500])\n",
        "##print([ sanityCheckIndex[l] for l in list(data[500]) if l>0 ])\n",
        "##print([ sanityCheckIndex[l] for l in list(sequences[500]) if l>0 ])\n",
        "print('Model Embeddings Result: ',embeddingOnlyModel.predict(np.array(data[500]).reshape(1,maxLen))[0,-5:,:3])\n",
        "##print(embeddings_matrix[2][:5])\n"
      ],
      "execution_count": null,
      "outputs": [
        {
          "output_type": "stream",
          "name": "stdout",
          "text": [
            "Manual Embeddings Result:  [[-0.078894, 0.4616, 0.57779], [-0.1897, 0.050024, 0.19084], [0.92962, -0.33633, -0.059828], [-0.43608, 0.39104, 0.51657], [0.042409, -0.52195, 0.40389]]\n",
            "Model Embeddings Result:  [[-0.078894  0.4616    0.57779 ]\n",
            " [-0.1897    0.050024  0.19084 ]\n",
            " [ 0.92962  -0.33633  -0.059828]\n",
            " [-0.43608   0.39104   0.51657 ]\n",
            " [ 0.042409 -0.52195   0.40389 ]]\n"
          ]
        }
      ]
    },
    {
      "cell_type": "markdown",
      "metadata": {
        "_uuid": "c9fd824f2cae3c62176c2182190305b2b7847451",
        "id": "Pbk32rI2M_h4"
      },
      "source": [
        "#3 layer CNN Model\n"
      ]
    },
    {
      "cell_type": "code",
      "metadata": {
        "trusted": true,
        "_uuid": "133bd08896be5e17582056b5bdf76647a0e9c650",
        "colab": {
          "base_uri": "https://localhost:8080/"
        },
        "id": "gD0MvKUnM_h4",
        "outputId": "8aeb02c9-6ea1-4d37-a850-0d6b4e4ec540"
      },
      "source": [
        "sequence_input = Input(shape=(maxLen,), dtype='int32')\n",
        "embedded_sequences = embedding_layer(sequence_input)\n",
        "x=Conv1D(128, 9, activation='relu')(embedded_sequences)\n",
        "x=MaxPooling1D(9)(x)\n",
        "x=Conv1D(128, 9, activation='relu')(x)\n",
        "x = Dropout(.4)(x)\n",
        "x=MaxPooling1D(9)(x)\n",
        "x=Conv1D(128, 9, activation='relu')(x)\n",
        "x = Dropout(.4)(x)\n",
        "x=MaxPooling1D(9)(x)\n",
        "x = Flatten()(x)\n",
        "x=Dense(128, activation='relu')(x)\n",
        "x=Dense(len(genres),activation='softmax')(x)\n",
        "\n",
        "CNN = Model(sequence_input, x)\n",
        "CNN.compile(loss='categorical_crossentropy',\n",
        "              optimizer='adam',\n",
        "              metrics=['acc'])\n",
        "\n",
        "CNN.fit(X_train, y_train, validation_data=(X_test, y_test),epochs=10, batch_size=128)"
      ],
      "execution_count": null,
      "outputs": [
        {
          "output_type": "stream",
          "name": "stdout",
          "text": [
            "Epoch 1/10\n",
            "79/79 [==============================] - 17s 204ms/step - loss: 1.1721 - acc: 0.4667 - val_loss: 1.1624 - val_acc: 0.4778\n",
            "Epoch 2/10\n",
            "79/79 [==============================] - 16s 201ms/step - loss: 1.0205 - acc: 0.5241 - val_loss: 1.0963 - val_acc: 0.5674\n",
            "Epoch 3/10\n",
            "79/79 [==============================] - 16s 201ms/step - loss: 0.8786 - acc: 0.6008 - val_loss: 0.9529 - val_acc: 0.5841\n",
            "Epoch 4/10\n",
            "79/79 [==============================] - 16s 202ms/step - loss: 0.7954 - acc: 0.6443 - val_loss: 0.9250 - val_acc: 0.6150\n",
            "Epoch 5/10\n",
            "79/79 [==============================] - 16s 201ms/step - loss: 0.7411 - acc: 0.6739 - val_loss: 0.8966 - val_acc: 0.6400\n",
            "Epoch 6/10\n",
            "79/79 [==============================] - 16s 201ms/step - loss: 0.6587 - acc: 0.7156 - val_loss: 0.8551 - val_acc: 0.6352\n",
            "Epoch 7/10\n",
            "79/79 [==============================] - 16s 201ms/step - loss: 0.5789 - acc: 0.7618 - val_loss: 0.8316 - val_acc: 0.6427\n",
            "Epoch 8/10\n",
            "79/79 [==============================] - 16s 201ms/step - loss: 0.4636 - acc: 0.8109 - val_loss: 0.8465 - val_acc: 0.6356\n",
            "Epoch 9/10\n",
            "79/79 [==============================] - 16s 201ms/step - loss: 0.3496 - acc: 0.8622 - val_loss: 0.8954 - val_acc: 0.6423\n",
            "Epoch 10/10\n",
            "79/79 [==============================] - 16s 201ms/step - loss: 0.3330 - acc: 0.8647 - val_loss: 0.8939 - val_acc: 0.6193\n"
          ]
        },
        {
          "output_type": "execute_result",
          "data": {
            "text/plain": [
              "<keras.callbacks.History at 0x7fd7952542d0>"
            ]
          },
          "metadata": {},
          "execution_count": 42
        }
      ]
    },
    {
      "cell_type": "code",
      "metadata": {
        "colab": {
          "base_uri": "https://localhost:8080/"
        },
        "id": "kGttuV7CMspY",
        "outputId": "e1853154-d0d9-47d3-fc87-dfdebff40947"
      },
      "source": [
        "from sklearn.metrics import classification_report\n",
        "print(classification_report(y_test,p))"
      ],
      "execution_count": null,
      "outputs": [
        {
          "output_type": "stream",
          "name": "stdout",
          "text": [
            "              precision    recall  f1-score   support\n",
            "\n",
            "           0       0.62      0.78      0.69      1179\n",
            "           1       0.50      0.80      0.62       889\n",
            "           2       0.82      0.53      0.65       252\n",
            "           3       0.42      0.68      0.52       202\n",
            "\n",
            "   micro avg       0.56      0.75      0.64      2522\n",
            "   macro avg       0.59      0.70      0.62      2522\n",
            "weighted avg       0.58      0.75      0.65      2522\n",
            " samples avg       0.60      0.75      0.65      2522\n",
            "\n"
          ]
        },
        {
          "output_type": "stream",
          "name": "stderr",
          "text": [
            "/usr/local/lib/python3.7/dist-packages/sklearn/metrics/_classification.py:1272: UndefinedMetricWarning: Precision and F-score are ill-defined and being set to 0.0 in samples with no predicted labels. Use `zero_division` parameter to control this behavior.\n",
            "  _warn_prf(average, modifier, msg_start, len(result))\n"
          ]
        }
      ]
    },
    {
      "cell_type": "code",
      "metadata": {
        "id": "9-cuKELrMi4y"
      },
      "source": [
        "p=CNN.predict(X_test)"
      ],
      "execution_count": null,
      "outputs": []
    },
    {
      "cell_type": "code",
      "metadata": {
        "id": "7EZR_297Mn7H"
      },
      "source": [
        "p=(p>0.4)"
      ],
      "execution_count": null,
      "outputs": []
    },
    {
      "cell_type": "code",
      "metadata": {
        "colab": {
          "base_uri": "https://localhost:8080/"
        },
        "id": "DYX1A-0fJzgs",
        "outputId": "dd609593-3353-477b-d0bd-466bee1f5d4d"
      },
      "source": [
        "CNN.summary()"
      ],
      "execution_count": null,
      "outputs": [
        {
          "output_type": "stream",
          "name": "stdout",
          "text": [
            "Model: \"model_6\"\n",
            "_________________________________________________________________\n",
            "Layer (type)                 Output Shape              Param #   \n",
            "=================================================================\n",
            "input_7 (InputLayer)         [(None, 2978)]            0         \n",
            "_________________________________________________________________\n",
            "embedding_2 (Embedding)      (None, 2978, 100)         9388800   \n",
            "_________________________________________________________________\n",
            "conv1d_12 (Conv1D)           (None, 2970, 128)         115328    \n",
            "_________________________________________________________________\n",
            "max_pooling1d_12 (MaxPooling (None, 330, 128)          0         \n",
            "_________________________________________________________________\n",
            "conv1d_13 (Conv1D)           (None, 322, 128)          147584    \n",
            "_________________________________________________________________\n",
            "dropout_9 (Dropout)          (None, 322, 128)          0         \n",
            "_________________________________________________________________\n",
            "max_pooling1d_13 (MaxPooling (None, 35, 128)           0         \n",
            "_________________________________________________________________\n",
            "conv1d_14 (Conv1D)           (None, 27, 128)           147584    \n",
            "_________________________________________________________________\n",
            "dropout_10 (Dropout)         (None, 27, 128)           0         \n",
            "_________________________________________________________________\n",
            "max_pooling1d_14 (MaxPooling (None, 3, 128)            0         \n",
            "_________________________________________________________________\n",
            "flatten_3 (Flatten)          (None, 384)               0         \n",
            "_________________________________________________________________\n",
            "dense_7 (Dense)              (None, 128)               49280     \n",
            "_________________________________________________________________\n",
            "dense_8 (Dense)              (None, 4)                 516       \n",
            "=================================================================\n",
            "Total params: 9,849,092\n",
            "Trainable params: 460,292\n",
            "Non-trainable params: 9,388,800\n",
            "_________________________________________________________________\n"
          ]
        }
      ]
    },
    {
      "cell_type": "markdown",
      "metadata": {
        "_uuid": "ec10d7c7eea4711c47c91ec1f4ff2021740a2e7c",
        "id": "e1PP4_QTM_h5"
      },
      "source": [
        "# 7.  LSTM-CNN model\n",
        "Try adding an LSTM layer to the end of the CNN"
      ]
    },
    {
      "cell_type": "code",
      "metadata": {
        "trusted": true,
        "_uuid": "29af26d9e05bd317b8c79fa00727bc5416153842",
        "colab": {
          "base_uri": "https://localhost:8080/"
        },
        "id": "RqlrGQDkM_h6",
        "outputId": "0899931f-2823-48ba-ee56-90eb8a1fae99"
      },
      "source": [
        "\n",
        "from keras.layers import LSTM, Dropout,Activation, Bidirectional\n",
        "word_indices =Input(shape=(maxLen,), dtype='int32')\n",
        "# Propagate sentence_indices through your embedding layer, you get back the embeddings\n",
        "embeddingsLSTM = embedding_layer(word_indices)   \n",
        "\n",
        "# Propagate the embeddings through an LSTM layer with 128-dimensional hidden state\n",
        "# Be careful, the returned output should be a batch of sequences.\n",
        "x=Conv1D(128, 9, activation='relu')(embeddingsLSTM)\n",
        "x=MaxPooling1D(9)(x)\n",
        "x=Conv1D(128, 9, activation='relu')(x)\n",
        "x = Dropout(.4)(x)\n",
        "x=MaxPooling1D(9)(x)\n",
        "x=Conv1D(128, 9, activation='relu')(x)\n",
        "x = Dropout(.4)(x)\n",
        "x=MaxPooling1D(9)(x)\n",
        "\n",
        "X =  LSTM(128,return_sequences=False)(x)\n",
        "# Add dropout with a probability of 0.5\n",
        "X = Dropout(.65)(X)\n",
        "# Propagate X through a Dense layer with softmax activation to get back a batch of 5-dimensional vectors.\n",
        "X = Dense(len(genres),activation='softmax')(X)\n",
        "# Add a softmax activation\n",
        "X = Activation('softmax')(X)\n",
        "    # Create Model instance which converts sentence_indices into X.\n",
        "LSTMmodel = Model(inputs = word_indices, outputs = X) \n",
        "LSTMmodel.compile(loss='categorical_crossentropy', optimizer='adam', metrics=['accuracy'])\n",
        "LSTMmodel.fit(X_train, y_train, validation_data=(X_test, y_test),epochs=10, batch_size=128)"
      ],
      "execution_count": null,
      "outputs": [
        {
          "output_type": "stream",
          "name": "stdout",
          "text": [
            "Epoch 1/10\n",
            "79/79 [==============================] - 19s 212ms/step - loss: 1.2650 - accuracy: 0.4614 - val_loss: 1.2509 - val_accuracy: 0.4556\n",
            "Epoch 2/10\n",
            "79/79 [==============================] - 16s 204ms/step - loss: 1.2515 - accuracy: 0.4651 - val_loss: 1.2510 - val_accuracy: 0.4675\n",
            "Epoch 3/10\n",
            "79/79 [==============================] - 16s 204ms/step - loss: 1.2514 - accuracy: 0.4672 - val_loss: 1.2482 - val_accuracy: 0.4675\n",
            "Epoch 4/10\n",
            "79/79 [==============================] - 16s 204ms/step - loss: 1.2480 - accuracy: 0.4673 - val_loss: 1.2511 - val_accuracy: 0.4675\n",
            "Epoch 5/10\n",
            "79/79 [==============================] - 16s 204ms/step - loss: 1.2426 - accuracy: 0.4717 - val_loss: 1.2463 - val_accuracy: 0.4675\n",
            "Epoch 6/10\n",
            "79/79 [==============================] - 16s 204ms/step - loss: 1.2068 - accuracy: 0.5182 - val_loss: 1.1763 - val_accuracy: 0.5511\n",
            "Epoch 7/10\n",
            "79/79 [==============================] - 16s 204ms/step - loss: 1.1809 - accuracy: 0.5514 - val_loss: 1.1687 - val_accuracy: 0.5690\n",
            "Epoch 8/10\n",
            "79/79 [==============================] - 16s 204ms/step - loss: 1.1558 - accuracy: 0.5791 - val_loss: 1.1646 - val_accuracy: 0.5674\n",
            "Epoch 9/10\n",
            "79/79 [==============================] - 16s 204ms/step - loss: 1.1312 - accuracy: 0.6078 - val_loss: 1.1630 - val_accuracy: 0.5698\n",
            "Epoch 10/10\n",
            "79/79 [==============================] - 16s 204ms/step - loss: 1.1240 - accuracy: 0.6142 - val_loss: 1.1501 - val_accuracy: 0.5852\n"
          ]
        },
        {
          "output_type": "execute_result",
          "data": {
            "text/plain": [
              "<keras.callbacks.History at 0x7fd794f0e890>"
            ]
          },
          "metadata": {},
          "execution_count": 44
        }
      ]
    },
    {
      "cell_type": "code",
      "metadata": {
        "colab": {
          "base_uri": "https://localhost:8080/"
        },
        "id": "y6l6G2GrLiv4",
        "outputId": "cba44c3d-4089-4ce9-f7fb-98215027cd24"
      },
      "source": [
        "from sklearn.metrics import classification_report\n",
        "print(classification_report(y_test,pred))"
      ],
      "execution_count": null,
      "outputs": [
        {
          "output_type": "stream",
          "name": "stdout",
          "text": [
            "              precision    recall  f1-score   support\n",
            "\n",
            "           0       0.58      0.84      0.68      1179\n",
            "           1       0.62      0.53      0.57       889\n",
            "           2       0.00      0.00      0.00       252\n",
            "           3       0.00      0.00      0.00       202\n",
            "\n",
            "   micro avg       0.59      0.58      0.59      2522\n",
            "   macro avg       0.30      0.34      0.31      2522\n",
            "weighted avg       0.49      0.58      0.52      2522\n",
            " samples avg       0.58      0.58      0.58      2522\n",
            "\n"
          ]
        },
        {
          "output_type": "stream",
          "name": "stderr",
          "text": [
            "/usr/local/lib/python3.7/dist-packages/sklearn/metrics/_classification.py:1272: UndefinedMetricWarning: Precision and F-score are ill-defined and being set to 0.0 in labels with no predicted samples. Use `zero_division` parameter to control this behavior.\n",
            "  _warn_prf(average, modifier, msg_start, len(result))\n",
            "/usr/local/lib/python3.7/dist-packages/sklearn/metrics/_classification.py:1272: UndefinedMetricWarning: Precision and F-score are ill-defined and being set to 0.0 in samples with no predicted labels. Use `zero_division` parameter to control this behavior.\n",
            "  _warn_prf(average, modifier, msg_start, len(result))\n"
          ]
        }
      ]
    },
    {
      "cell_type": "code",
      "metadata": {
        "colab": {
          "base_uri": "https://localhost:8080/"
        },
        "id": "W2Y4cdzRONfH",
        "outputId": "e74efd62-2116-49ac-c577-b1f4ee6156f7"
      },
      "source": [
        "from sklearn.metrics import accuracy_score\n",
        "accuracy = accuracy_score(y_test, pred)\n",
        "print('Accuracy: %f' % accuracy)"
      ],
      "execution_count": null,
      "outputs": [
        {
          "output_type": "stream",
          "name": "stdout",
          "text": [
            "Accuracy: 0.580492\n"
          ]
        }
      ]
    },
    {
      "cell_type": "code",
      "metadata": {
        "id": "FAZAHz4WLVoQ"
      },
      "source": [
        "pred=LSTMmodel.predict(X_test)"
      ],
      "execution_count": null,
      "outputs": []
    },
    {
      "cell_type": "code",
      "metadata": {
        "id": "WAQ60vm9MMyI"
      },
      "source": [
        "pred = (pred > 0.33) "
      ],
      "execution_count": null,
      "outputs": []
    },
    {
      "cell_type": "code",
      "metadata": {
        "colab": {
          "base_uri": "https://localhost:8080/"
        },
        "id": "cIzC06vfKJYl",
        "outputId": "eab26482-227c-47ea-a882-5b12a0d40787"
      },
      "source": [
        "LSTMmodel.summary()"
      ],
      "execution_count": null,
      "outputs": [
        {
          "output_type": "stream",
          "name": "stdout",
          "text": [
            "Model: \"model_3\"\n",
            "_________________________________________________________________\n",
            "Layer (type)                 Output Shape              Param #   \n",
            "=================================================================\n",
            "input_4 (InputLayer)         [(None, 2978)]            0         \n",
            "_________________________________________________________________\n",
            "embedding (Embedding)        (None, 2978, 100)         9388800   \n",
            "_________________________________________________________________\n",
            "conv1d_6 (Conv1D)            (None, 2970, 128)         115328    \n",
            "_________________________________________________________________\n",
            "max_pooling1d_6 (MaxPooling1 (None, 330, 128)          0         \n",
            "_________________________________________________________________\n",
            "conv1d_7 (Conv1D)            (None, 322, 128)          147584    \n",
            "_________________________________________________________________\n",
            "dropout_4 (Dropout)          (None, 322, 128)          0         \n",
            "_________________________________________________________________\n",
            "max_pooling1d_7 (MaxPooling1 (None, 35, 128)           0         \n",
            "_________________________________________________________________\n",
            "conv1d_8 (Conv1D)            (None, 27, 128)           147584    \n",
            "_________________________________________________________________\n",
            "dropout_5 (Dropout)          (None, 27, 128)           0         \n",
            "_________________________________________________________________\n",
            "max_pooling1d_8 (MaxPooling1 (None, 3, 128)            0         \n",
            "_________________________________________________________________\n",
            "lstm (LSTM)                  (None, 128)               131584    \n",
            "_________________________________________________________________\n",
            "dropout_6 (Dropout)          (None, 128)               0         \n",
            "_________________________________________________________________\n",
            "dense_4 (Dense)              (None, 4)                 516       \n",
            "_________________________________________________________________\n",
            "activation (Activation)      (None, 4)                 0         \n",
            "=================================================================\n",
            "Total params: 9,931,396\n",
            "Trainable params: 542,596\n",
            "Non-trainable params: 9,388,800\n",
            "_________________________________________________________________\n"
          ]
        }
      ]
    },
    {
      "cell_type": "markdown",
      "metadata": {
        "_uuid": "2980acd9ca50b6ff00553c5836919f1c5a0fd1f7",
        "id": "JeuDqu6tM_h7"
      },
      "source": [
        "# 8 Analysis and Conclusion\n",
        "Make test set predictions to compare and evaluate the models."
      ]
    },
    {
      "cell_type": "code",
      "metadata": {
        "trusted": true,
        "_uuid": "37859bd81836d673c81d473452e1153a6a3e37f4",
        "id": "W4OQ4yVMM_h7"
      },
      "source": [
        "CNNpreds=model.predict(X_test)"
      ],
      "execution_count": null,
      "outputs": []
    },
    {
      "cell_type": "code",
      "metadata": {
        "trusted": true,
        "_uuid": "77687485257769bb91bb7d5da9e58b8cd0f4d05f",
        "id": "s-CsFxK6M_h7"
      },
      "source": [
        "LSTMpreds=LSTMmodel.predict(X_test)"
      ],
      "execution_count": null,
      "outputs": []
    },
    {
      "cell_type": "code",
      "metadata": {
        "trusted": true,
        "_uuid": "7bf16ccd417b2943d07bf4a9ec5d279f54522fb2",
        "colab": {
          "base_uri": "https://localhost:8080/"
        },
        "id": "8fJ80ZB4M_h8",
        "outputId": "2e2ffdef-0fa3-44ca-ffb6-7d3e987a63d1"
      },
      "source": [
        "avgPreds=np.average([LSTMpreds,CNNpreds],weights=[.7,.3],axis=0)\n",
        "\n",
        "\n",
        "withPreds=pd.concat([pd.DataFrame(avgPreds),df.loc[testIndices,['OriginalPlot','Genre','Title']].reset_index()],axis=1)\n",
        "withPreds['Predicted Genre']=(withPreds[0]>withPreds[1] ).replace(True,'drama').replace(False,'comedy').replace(False,'action').replace(False,'horror')\n",
        "accuracy=(withPreds['Predicted Genre']==withPreds['Genre']).mean()\n",
        "print('Accuracy of final ensembled model: ',accuracy)"
      ],
      "execution_count": null,
      "outputs": [
        {
          "output_type": "stream",
          "name": "stdout",
          "text": [
            "Accuracy of final ensembled model:  0.5812846946867566\n"
          ]
        }
      ]
    },
    {
      "cell_type": "code",
      "metadata": {
        "trusted": true,
        "_uuid": "f6e16fd7ea8ee1cce86251c11ca8e432d31e5cc7",
        "colab": {
          "base_uri": "https://localhost:8080/"
        },
        "id": "kB7T6lH9M_h9",
        "outputId": "371b164c-50a3-4a0d-874d-b98d67e2781b"
      },
      "source": [
        "for x in withPreds.sort_values(by=0)[['Title','OriginalPlot',0,'Genre']].head(3).iterrows():\n",
        "    print(x[1].Title,x[1][0],x[1]['Genre'])\n",
        "    print(x[1].OriginalPlot)\n",
        "    print(' ')"
      ],
      "execution_count": null,
      "outputs": [
        {
          "output_type": "stream",
          "name": "stdout",
          "text": [
            "The Adventures of Rocky and Bullwinkle 0.12254677530727348 comedy\n",
            "35 years since their show's cancellation in 1964, Rocket J. \"Rocky\" Squirrel and Bullwinkle J. Moose have been relegated to reruns. Their home, Frostbite Falls, has been destroyed by deforestation, Rocky has lost his ability to fly and the show's unseen Narrator now lives with his mother, spending his time narrating his own mundane life. Meanwhile, their enemies Fearless Leader, Boris Badenov, and Natasha Fatale have lost power in Pottsylvania following the end of the Cold War. However, the three escape to a real-world Hollywood film studio, where they trick executive Minnie Mogul into signing a contract giving her rights to the show, transforming the villains from their two-dimensional cel-animated forms into live-action characters. Six months later in Washington D.C., a warm-hearted and beautiful FBI agent Karen Sympathy and her superior, Cappy von Trapment, inform President Signoff that Fearless Leader intends to make himself President of the United States by brainwashing television viewers using his own cable television network named \"RBTV\" (\"Really Bad Television\"), which airs mind-numbing programming designed to zombify the public and persuade them to elect him as president. Karen is sent to a special lighthouse to bring Rocky and Bullwinkle to the real world by literally greenlighting a film starring the pair. She succeeds, with the Narrator being brought along as well but never being physically seen.\r\n",
            "Fearless Leader is informed that Rocky and Bullwinkle have returned and sends Boris and Natasha to destroy them. The two spies are given a weapon called the CDI (\"Computer Degenerating Imagery\"), which removes cartoon characters from the real world by sending them to the Internet. Karen steals Boris and Natasha's truck, but gets arrested by an Oklahoma state trooper. Natasha and Boris in turn steal a helicopter to pursue Rocky and Bullwinkle. Rocky and Bullwinkle are given a ride by Martin and Lewis, two students at Bullwinkle's old university, Wossamotta U. Boris and Natasha get there first and make a large donation to the university in Bullwinkle's name. In return, the head of the university gives Bullwinkle an honorary \"Mooster's Degree\" and Bullwinkle addresses the student body, whilst Boris attempts to kill him with the CDI from a water tower. Rocky recovers his lost ability to fly and saves the oblivious Bullwinkle.\r\n",
            "Martin and Lewis lend the two their car, which Bullwinkle drives to Chicago. Boris and Natasha once again attempt to kill the two, but instead accidentally destroy their helicopter. Meanwhile, Karen escapes prison with the help from a love-struck Swedish guard named Ole. Karen, Rocky, and Bullwinkle are reunited, but are quickly arrested for various misdemeanors that they have committed during their journey. The three are put on trial, where Bullwinkle inadvertently sabotages their case by cross-examining Karen as the prosecutor, not the defense attorney. However, the presiding Judge Cameo dismisses their case upon recognizing Rocky and Bullwinkle, stating to the District Attorney that celebrities are above the law.\r\n",
            "The three obtain a biplane from a man named Old Jeb and escape Boris and Natasha once again. The duo consider quitting their evil occupations and getting married, but are interrupted by a call from Fearless Leader. Afraid to admit they have failed, they lie and tell him they have killed Rocky and Bullwinkle. Fearless Leader initiates his plan, brainwashing the entire country. Meanwhile, the plane is unable to carry the weight of all three aboard. Rocky flies Karen to New York City to stop Fearless Leader, but gets captured. Meanwhile, Bullwinkle accidentally flies the plane to Washington, D.C., confusing it for New York, and crashes on the White House lawn. To get Bullwinkle to New York in time to stop Fearless Leader, Cappy scans Bullwinkle into the White House's computer and emails him to RBTV's headquarters, where he interrupts the broadcast and save Karen and Rocky. Karen knocks Boris and Natasha together, Bullwinkle throws Fearless Leader to his comrades, and Rocky ties the three scoundrels together with the cable's wire. The heroes convince the American public to vote for whomever they want, as well as replant Frostbite Falls' trees. Bullwinkle accidentally activates the CDI, and zaps Boris, Natasha, and Fearless Leader, reverting them back to their two-dimensional animated cartoon forms and banishing them to the Internet once and for all.\r\n",
            "And in the end, RBTV is changed from \"Really Bad Television\" to \"Rocky and Bullwinkle Television\", Karen and Ole start dating, and Rocky, Bullwinkle, and the Narrator return home to a rejuvenated Frostbite Falls.\n",
            " \n",
            "Looking Forward 0.12258410729700699 drama\n",
            "With his upscale department store steadily losing money, Gabriel Service, Sr. (Lewis Stone) is forced to discharge some of his employees, including an unenterprising but loyal and long-serving Tim Benton (Lionel Barrymore). Then Service returns home to his mansion to inform his family of their own financial straits; he has kept the 200-year-old family firm afloat with his own money in recent times. Neither his young adult children, Caroline (Elizabeth Allan) and Michael (Phillips Holmes), nor their stepmother Isobel (Benita Hume) take him very seriously at first, despite his repeated warnings over the past few months. Isobel has also been seeing another man behind her oblivious husband's back.\r\n",
            "The situation becomes so dire that Philip Bendicott (Lawrence Grant), one of Service's business partners, strongly urges him to sell out to Stoner, whose store chain is one of the few thriving businesses, serving a lower class clientele. Service loathes the idea, but decides he has no choice. Gossip soon spreads, especially when Stoner himself comes to inspect the department store.\r\n",
            "When he breaks the news to his family, they are all appalled. The next day, when he returns home, Caroline informs him that Isobel has run off with her lover. Caroline and Michael urge their father to keep the firm and fight on. Though gratified by their spirit and unexpected concern for the store, Service rejects their proposal. Meanwhile, Benton has started a very successful business in his own home, with his wife Lil (Doris Lloyd) baking delectable pastries and cakes and their offspring, Willie (Douglas Walton (actor)) and Elsie (Viva Tattersall), pitching in. Michael flies back from Paris and Berlin, where his family thought he was taking a vacation, instead he shows them his designs of striking furniture, which he believes could be manufactured and sold by the department store, further Caroline wants to work as well in the department store. But Service Sr. doesn't want to take the risk and is decided to sell. Afterwards, on the way to the solicitors to sign away his store, he runs into Benton. Benton tells him about his \"Benton pastries enterprise\" and make him taste one. Mr. Service is very delighted by the pastry and Benton tries to get him to change his mind. When Service reads in the newspaper that the deal is already done, he is so outraged at Stoner's impudence that he does cancel the sale, due to Benton's example and encouragement. The last scene with Service Sr., Service Jr., Caroline, Jeoffrey Fielding (Colin Clive), Service's assistant and Caroline's admirer, and Benton is a optimistic scene, where the young take over helping the older to feel, that things go on. Michael Service tastes a pastry from Benton and orders 4 dozens/day for the store, Caroline wants to live on her earnings and be \"very poor\" to be on the level of Jeoffrey and finally the rain stops and a rainbow comes out. Together, the Services look forward to the future with optimism.\n",
            " \n",
            "Ready 0.12260978507110849 comedy\n",
            "Ready starts with ready-witted Prem Kapoor (Salman Khan) helping his childhood friend Khushi (Zarine Khan) to elope with Raju (Ajay Devgn). Khushi's intended bridegroom Gaurav (Arbaaz Khan) reveals that he also has a girlfriend, Kiran (Kangana Ranaut), whom he wants to marry. The elopement angers Khushi's father, Mr. Pathak (Mithilesh Chaturvedi) and Prem's family, the Kapoors. Prem manages to pacify his family members.\r\n",
            "The Kapoors decide to get Prem engaged to Pooja. Prem is sent to receive Pooja at the airport; however, he deliberately goes to the wrong terminal to avoid meeting her. A young woman named Sanjana (Asin), who has just run away from her own wedding, overhears Prem telling his uncle about ditching Pooja. Since nobody from Prem's family has ever seen Pooja, Sanjana pretends to be Prem's intended fiancée. Sanjana, posing as Pooja, goes to stay with the Kapoors and wins the hearts of the entire family, except Prem, who gets irritated with her.\r\n",
            "Meanwhile, Sanjana's maternal uncles, Amar Choudhary (Akhilendra Mishra) and Suraj Choudhary (Sharat Saxena), who are rivals, try to search for her. Each uncle wants Sanjana to marry his respective brother-in-law to inherit her wealth. Sanjana and Prem escape from Suraj Chaudhary's goons by taking a lift in the car of Mr. Lehri (Sudesh Lehri). Prem outwits the goons and sends Suraj's son Aryan into a coma while escaping. Suraj Choudhary takes the help of Mr. Lehri to get to know who ran away with Sanjana.\r\n",
            "By then, Prem finds out Sanjana's true identity, and she tells him about her uncles trying to get her married. Prem and Sanjana fall in love and decide to marry. However, her uncle Suraj Chaudhary takes her away. Then the Kapoors come to know about her true identity; they still want her as Prem's wife. Prem assures Sanjana that she should stay with her uncle, and he will find a way to marry her as well as reunite her whole family.\r\n",
            "Prem pretends to be the nephew of CA Balidaan Bhardwaaj a.k.a. Balli (Paresh Rawal), a chartered accountant who serves Sanjana's uncles. Prem convinces Suraj and Amar Chaudhary not to get either of their brothers-in-law married to Sanjana. Instead, he suggests the daughters of America's billionaires K.K. and B.K. Modi as suitable brides for the two brothers-in-law. What the Choudharies do not know is that K.K. and B.K. Modi are actually Prem's dad and uncle in disguise. Prem gets the rest of his family to play characters to trick Sanjana's family into letting her marry him. He also manages to change the Chaudhary family's negative attitudes.\r\n",
            "But on the wedding day, Aryan recovers from his coma, and reveals the truth about Prem. A physical fight follows, in which Prem gets the upper hand of Sanjana's uncles and their men. He then explains to Amar and Suraj how Sanjana's late mother wanted them to unite and get their niece married. The Chaudharies realise their mistake and are deeply apologetic for their behaviour. In the end, Prem and Sanjana get married and their wedding picture is taken with the Kapoors and Chaudharies, a.k.a. the 'Chapoors'. In the end, a spinoff is placed for a sequel in the future as the third brother of the Chauderies returns.\n",
            " \n"
          ]
        }
      ]
    },
    {
      "cell_type": "markdown",
      "metadata": {
        "_uuid": "17ca4410e5f7313211afd1262b27e75ef7151df0",
        "id": "LmKgw4KuM_h9"
      },
      "source": [
        "Movies the ensemble model is most confident are not comedies."
      ]
    },
    {
      "cell_type": "code",
      "metadata": {
        "trusted": true,
        "_uuid": "60ae524dbc83c1e4167807de2e2f49f1a09b9de1",
        "colab": {
          "base_uri": "https://localhost:8080/"
        },
        "id": "GY_81RB8M_h9",
        "outputId": "102a0464-ec01-4092-8582-1913d8bcc8fd"
      },
      "source": [
        "for x in withPreds.sort_values(by=1)[['Title','OriginalPlot',0,'Genre']].head(3).iterrows():\n",
        "    print(x[1].Title,x[1][0],x[1]['Genre'])\n",
        "    print(x[1].OriginalPlot)\n",
        "    print(' ')"
      ],
      "execution_count": null,
      "outputs": [
        {
          "output_type": "stream",
          "name": "stdout",
          "text": [
            "The Promise 0.6318859755992889 drama\n",
            "Mikael (Oscar Isaac) is an apothecary who lives in the small Armenian village of Sirun in the southeast part of the Ottoman Empire. In order to help pay the expenses for medical school, he promises himself to the daughter of an affluent neighbor, receiving 400 gold coins as a dowry. This allows him to travel to Constantinople and attend the Imperial Medical Academy.\r\n",
            "There, he befriends Emre, the son of a high-level Turkish official. Through his wealthy uncle, Mikael also meets Ana (Charlotte Le Bon), an Armenian woman raised in Paris, who is involved with an American reporter for the Associated Press, Chris Myers (Christian Bale). In due course, Mikael falls in love with Ana just as international tensions begin to rise with the outbreak of World War I. Mikael temporarily manages to avoid conscription in the Ottoman army through a medical student exemption with the help of Emre. But when he tries to save his uncle from imprisonment during the roundups of April 24, 1915, he is detained and sent to a prison labor camp himself.\r\n",
            "Mikael eventually escapes the camp, returning to his village only to find the Turks have violently turned on their Armenian fellow townspeople. His parents, and particularly his mother, persuade him to marry his betrothed and seek refuge in a remote mountain cabin where she soon becomes pregnant. A difficult pregnancy leads Mikael to bring his wife back to the care of his mother in the village. There he learns that Ana and Christopher are at a nearby Red Cross facility and he goes to seek their help for his family to escape the imminent Turkish threat.\r\n",
            "Departing the mission with a group of orphans, they head back to Sirun to retrieve Mikael's family. Along the way, however, they encounter a site of a massacre, as it becomes clear all of Sirun's inhabitants, including Mikael's family, save his mother, have been killed by Turkish troops. Chris is captured by Ottoman troops and sent back to Constantinople, charged with being a spy and slated for execution by the authorities; with the help of Emre, and through the intercession of American Ambassador Henry Morgenthau, Chris is released and allowed to depart for Malta. Once there, he boards the French cruiser Guichen, as it prepares to set sail along the Ottoman coast. Emre's role in helping to save Chris is discovered and he is executed by a firing squad.\r\n",
            "Escaping pursuit, Mikael, Ana, and the orphans join a large group of refugees determined to fight off the Ottoman army on mount Musa Dagh. As they fend off repeated assaults, Mikael's mother succumbs to her wounds and is buried on the mountain. The refugees hold on long enough to escape on the back side to the coast as the Guichen comes to their rescue. But as the launches return to the ship, a Turkish artillery barrage throws Ana and Yeva, the young daughter of Mikael's uncle, overboard. Mikael jumps in after them and is able to rescue Yeva, but Ana drowns.\r\n",
            "In a voice over, Mikael recounts that he adopted Yeva and together they settled in Watertown, Massachusetts. During Yeva's wedding reception in 1942, with the Armenian orphans who have now grown up in attendance, Mikael presides over a toast, wishing good fortune to their families and the generations to come.\n",
            " \n",
            "Boys Are Back, TheThe Boys Are Back 0.6323262989521026 drama\n",
            "Joe Warr (Clive Owen) is a British sports writer who lives in Australia with his second wife, Katy (Laura Fraser) and his young son Artie (Nicholas McAnulty). Katy is diagnosed with cancer and dies, forcing Joe to cope with the responsibilities of being a single parent.\r\n",
            "Joe's teenage son from his first marriage, Harry (George MacKay), feels abandoned in the UK with his mother. Harry uses Katy's death as an opportunity to try to build a relationship with his father, coming to visit him in Australia. Although Harry is initially unnerved by the lack of discipline in the house, he eventually forms a strong bond with Artie, while struggling to foster a closer relationship with Joe.\r\n",
            "When Joe is forced by work to leave his sons alone in the house for a night, local teenagers throw a party at the house against both boys' will.\r\n",
            "With the house ransacked, Harry flies back to England because he no longer feels safe living with Joe. Joe and Artie go after him. After much discussion, Joe convinces Harry to move to Australia on a permanent basis.\r\n",
            "The trio return to Australia, and together shoulder the responsibilities of running the household without a female influence.\n",
            " \n",
            "Red River 0.6319260030984878 drama\n",
            "A Tao (Zhang Jingchu) living near Red River at the Vietnam/Chinese border, is a mentally handicapped Vietnamese girl due to witnessing the violent death of her father, who stepped on a land mine while recovering her kite.\r\n",
            "After she has grown up, she moved to China to work as a cleaner for A Shui (Loletta Lee), who is her deceased father's sister and runs a massage parlor. A Shan (Nick Cheung), a former theatre actor, operates a road side karaoke in town and vaguely resembles A Tao's father. A Tao soon becomes attracted to him.\r\n",
            "Boss Shaba (Danny Lee Sau-Yin), a regular big spender at Ah Shui's massage parlor, suffered injuries and lost his lower right leg during the Vietnam War. He has earned his money by parallel importing American cigarettes. Due to his temper and appearance, no massage girl wants to serve him. Shaba then asked for A Tao who did not know him and was not afraid. Shaba thus takes a liking to A Tao.\r\n",
            "Upon discovering A Tao's singing and crowd pulling abilities, A Shan offered to take her off A Shui's hands, which Ah Shui agrees for 200 renminbi plus a temporary resident permit for A Tao. When Shaba found out that A Tao is no longer at the massage parlour, he sent his men to get her back for him.\n",
            " \n"
          ]
        }
      ]
    }
  ]
}